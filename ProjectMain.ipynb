{
  "nbformat": 4,
  "nbformat_minor": 0,
  "metadata": {
    "colab": {
      "provenance": [],
      "authorship_tag": "ABX9TyNHvRr5ihQHIeG4eZWLT73/",
      "include_colab_link": true
    },
    "kernelspec": {
      "name": "python3",
      "display_name": "Python 3"
    },
    "language_info": {
      "name": "python"
    }
  },
  "cells": [
    {
      "cell_type": "markdown",
      "metadata": {
        "id": "view-in-github",
        "colab_type": "text"
      },
      "source": [
        "<a href=\"https://colab.research.google.com/github/Sakshi895/SakshiSharma/blob/main/ProjectMain.ipynb\" target=\"_parent\"><img src=\"https://colab.research.google.com/assets/colab-badge.svg\" alt=\"Open In Colab\"/></a>"
      ]
    },
    {
      "cell_type": "markdown",
      "source": [
        "1. Sakshi Sharma\n",
        "2. Saikrishna Jajula\n",
        "3. Sowmya Priya Appikonda\n",
        "\n",
        "**Abstract**\n",
        "\n",
        "\n",
        "Customer churn is one of the main challenges that has been on the rise since the whole world has started to use online shopping. Customer churn is when customers stops using a product or service and it affects the growth of a business organization. This project aims to predict customer churn using data mining and machine learning techniques by observe the patterns in the data. The rate at which customers stop buying a product or using a online shopping platform is called the customer churn. It is an important measure that helps understand how customers are loyal and how their business strategies are working. It is also important as attracting new customers may cost more than maintaining the current users of the service. Data from Kaggle has been used for this project. Advanced analytical models were applied to get the insights which can be used to improve business strategies. This also helps in improving the profit rate of the organization. By using predictive approach, this project aims to help with business planning and making decisions by using a predictive approach to predict trends.\n",
        "has context menu\n"
      ],
      "metadata": {
        "id": "vtH-4fYGKM8k"
      }
    },
    {
      "cell_type": "markdown",
      "source": [
        "**Introduction**\n",
        "\n",
        "E-commerce has been evolving at a fast pace. One of the critical challenges that E-commerce industry has been facing is the prediction and understanding of the customer churn which helps businesses to strive for sustainable growth. The percentage of customers who maintain a regular engagement with an organization over a period of time is called Customer churn. It is a pivotal metric which helps in understanding the insights such as the loyalty of the customer and the improvement of the organization. Usually, it costs more for the organization to attract new customers than to maintain the customers who shop regularly. Using machine learning techniques and data mining to employ predictive analysis of customer churn can change the game. It can identify and address the reasons to why the customer may have stopped using a particular service. By making the best use of predictive churn, E-commerce businesses can easily implement solutions to improve customer satisfaction which in turns helps the business to gain profits and understand the market value of their service.\n",
        "\n",
        "Customer churn acts as a indicator of the company and customer’s relationship along with the operational efficiency. With the current competition in the industry and the change of customer preferences, predicting and reducing the customer loss is an essential part of making business plans. By making use of advanced analytics, companies can gain a deeper understanding of the patterns, preferences of a customer over the product and also the factor which is causing the customer dissatisfaction. This helps them improve their services and products more effectively. This project tries to explore the reasons by using a data-driven approach to understand why customers may leave the e-commerce industry and to understand the behaviour of customers.\n"
      ],
      "metadata": {
        "id": "_HtJeTss1wxW"
      }
    },
    {
      "cell_type": "markdown",
      "source": [
        "**Literature Review**\n",
        "\n",
        "It has been known since long that the economic impact of customer churn definitely influences the profit of a business organization ( Hanssens, D. M., Hardie, B. G. S., Kahn, W., Kumar, V., Lin, N., Равишанкер, Н., & Subramaniam, S. 2006). A study has shown how to predict when customers will stop using e-commerce services (Buckinx, W., & Van Den Poel, D. 2003). It also points out that logistic regression and decision trees are useful methods to forecast the customer behavior. Various data mining techniques are used in understanding the customer churn: classification, regression and clustering ( Ngai, E. W., Li, X., & Chau, D. 2009). Another study showed how support vector machines (SVM) algorithm is good at predicting the customer loss, especially when dealing with complicated data from online stores (  Xie, Y., Li, X., Ngai, E. W., & Ying, W. 2009)\n",
        "Research has shown that machine learning algorithms play an important role in improving the customer retention strategies by identifying the customers who are prone to the churn ( Lemmens, A., & Croux, C. 2006 ).\n",
        "A recent study used deep learning techniques to predict the churn, which illustrated how the predictive analysis is evolving in the context of customer behaviour (Amin, A., et al. 2019).\n",
        "One research was focused to prove how easy it is for customers to change their preference of services or products and how they behave while shopping online (Verhoef, P. C., & Donkers, B. 2005) A study highlighted how the sales data is important in understanding why customers stop purchasing a product ( Hadden, John & Tiwari, Ashutosh & Roy, Rajkumar & Ruta, Dymitr.2007). The digital data in e-commerce provides valuable information and insights.\n"
      ],
      "metadata": {
        "id": "tqPyXdp2B4DA"
      }
    },
    {
      "cell_type": "markdown",
      "source": [
        "#Importing Libraries"
      ],
      "metadata": {
        "id": "oSyni2-oK_eU"
      }
    },
    {
      "cell_type": "code",
      "source": [
        "import numpy as np # linear algebra\n",
        "import pandas as pd # data processing, CSV file I/O (e.g. pd.read_csv)\n",
        "import matplotlib.pyplot as plt\n",
        "import seaborn as sns\n",
        "from sklearn.preprocessing import LabelEncoder\n",
        "from sklearn.metrics import accuracy_score, classification_report\n",
        "\n"
      ],
      "metadata": {
        "id": "aTKqifinM_I5"
      },
      "execution_count": null,
      "outputs": []
    },
    {
      "cell_type": "markdown",
      "source": [
        "Data Collection:\n",
        "The dataset used in this project was obtained from the kaggle. The dataset contains medical data from 250001 customers,  The dataset has 12 features.The dataset contains the following columns:\n",
        "\n",
        "Customer ID: A unique identifier for each customer.\n",
        "\n",
        "Customer Name: The name of the customer (generated by Faker).\n",
        "\n",
        "Customer Age: The age of the customer (generated by Faker).\n",
        "\n",
        "Gender: The gender of the customer (generated by Faker).\n",
        "\n",
        "Purchase Date: The date of each purchase made by the customer.\n",
        "\n",
        "Product Category: The category or type of the purchased product.\n",
        "\n",
        "Product Price: The price of the purchased product.\n",
        "\n",
        "Quantity: The quantity of the product purchased.\n",
        "\n",
        "Total Purchase Amount: The total amount spent by the customer in each transaction.\n",
        "\n",
        "Payment Method: The method of payment used by the customer (e.g., credit card, PayPal).\n",
        "\n",
        "Returns: Whether the customer returned any products from the order (binary: 0 for no return, 1 for return).\n",
        "\n",
        "Churn: A binary column indicating whether the customer has churned (0 for retained, 1 for churned).\n",
        "\n",
        "Dataset Description:\n",
        "\n",
        "The \"E-commerce Customer Behavior and Purchase Dataset\" is a synthetic dataset generated using the Faker Python library. It simulates a comprehensive e-commerce environment, capturing various aspects of customer behavior and purchase history within a digital marketplace. This dataset has been designed for data analysis and predictive modeling in the field of e-commerce. It is suitable for tasks such as customer churn prediction trend analysis.The dataset was preprocessed by normalizing the continuous variables and one-hot encoding the categorical variables. The dataset used in this project can be accessed from Kaggle at https://www.kaggle.com/datasets/shriyashjagtap/e-commerce-customer-for-behavior-analysis/data The dataset is available in CSV format and can be easily imported into Python or R for analysis.\n",
        "\n",
        "Data Processing\n",
        "\n",
        "Data processing typically involves several steps, such as: 1. Loading the dataset into a pandas DataFrame. 2. Examining the dataset to identify missing values, outliers, and other data quality issues. 3. Preprocessing the data, which may involve imputing missing values, encoding categorical variables, scaling numeric variables, and transforming variables as needed. 4. Splitting the dataset into training and testing sets for model development and evaluation."
      ],
      "metadata": {
        "id": "8jl_5vU5LEOg"
      }
    },
    {
      "cell_type": "markdown",
      "source": [
        "# Load the dataset"
      ],
      "metadata": {
        "id": "RprsUAsELfPH"
      }
    },
    {
      "cell_type": "code",
      "source": [
        "data = pd.read_csv('/content/ecommerce_customer_data_large.csv')\n",
        "data_desc = pd.read_csv('/content/ecommerce_customer_data_large.csv', header=1, usecols=[1,2,3])\n",
        "data_desc"
      ],
      "metadata": {
        "colab": {
          "base_uri": "https://localhost:8080/",
          "height": 424
        },
        "id": "ya4UgvBKWRqJ",
        "outputId": "4e620e3f-1c0c-4dd7-e480-3bb2410461b3"
      },
      "execution_count": null,
      "outputs": [
        {
          "output_type": "execute_result",
          "data": {
            "text/plain": [
              "        2023-05-03 21:30:02         Home  177\n",
              "0       2021-05-16 13:57:44  Electronics  174\n",
              "1       2020-07-13 06:16:57        Books  413\n",
              "2       2023-01-17 13:14:36  Electronics  396\n",
              "3       2021-05-01 11:29:27        Books  259\n",
              "4       2022-08-25 06:48:33         Home  191\n",
              "...                     ...          ...  ...\n",
              "249994  2023-01-24 12:32:18         Home  436\n",
              "249995  2021-06-04 05:45:25  Electronics  233\n",
              "249996  2022-11-10 17:11:57  Electronics  441\n",
              "249997  2021-06-27 14:42:12  Electronics   44\n",
              "249998  2020-09-07 05:12:19         Home  307\n",
              "\n",
              "[249999 rows x 3 columns]"
            ],
            "text/html": [
              "\n",
              "  <div id=\"df-647cb299-ddcb-4a03-81af-6b312cbf7f9c\" class=\"colab-df-container\">\n",
              "    <div>\n",
              "<style scoped>\n",
              "    .dataframe tbody tr th:only-of-type {\n",
              "        vertical-align: middle;\n",
              "    }\n",
              "\n",
              "    .dataframe tbody tr th {\n",
              "        vertical-align: top;\n",
              "    }\n",
              "\n",
              "    .dataframe thead th {\n",
              "        text-align: right;\n",
              "    }\n",
              "</style>\n",
              "<table border=\"1\" class=\"dataframe\">\n",
              "  <thead>\n",
              "    <tr style=\"text-align: right;\">\n",
              "      <th></th>\n",
              "      <th>2023-05-03 21:30:02</th>\n",
              "      <th>Home</th>\n",
              "      <th>177</th>\n",
              "    </tr>\n",
              "  </thead>\n",
              "  <tbody>\n",
              "    <tr>\n",
              "      <th>0</th>\n",
              "      <td>2021-05-16 13:57:44</td>\n",
              "      <td>Electronics</td>\n",
              "      <td>174</td>\n",
              "    </tr>\n",
              "    <tr>\n",
              "      <th>1</th>\n",
              "      <td>2020-07-13 06:16:57</td>\n",
              "      <td>Books</td>\n",
              "      <td>413</td>\n",
              "    </tr>\n",
              "    <tr>\n",
              "      <th>2</th>\n",
              "      <td>2023-01-17 13:14:36</td>\n",
              "      <td>Electronics</td>\n",
              "      <td>396</td>\n",
              "    </tr>\n",
              "    <tr>\n",
              "      <th>3</th>\n",
              "      <td>2021-05-01 11:29:27</td>\n",
              "      <td>Books</td>\n",
              "      <td>259</td>\n",
              "    </tr>\n",
              "    <tr>\n",
              "      <th>4</th>\n",
              "      <td>2022-08-25 06:48:33</td>\n",
              "      <td>Home</td>\n",
              "      <td>191</td>\n",
              "    </tr>\n",
              "    <tr>\n",
              "      <th>...</th>\n",
              "      <td>...</td>\n",
              "      <td>...</td>\n",
              "      <td>...</td>\n",
              "    </tr>\n",
              "    <tr>\n",
              "      <th>249994</th>\n",
              "      <td>2023-01-24 12:32:18</td>\n",
              "      <td>Home</td>\n",
              "      <td>436</td>\n",
              "    </tr>\n",
              "    <tr>\n",
              "      <th>249995</th>\n",
              "      <td>2021-06-04 05:45:25</td>\n",
              "      <td>Electronics</td>\n",
              "      <td>233</td>\n",
              "    </tr>\n",
              "    <tr>\n",
              "      <th>249996</th>\n",
              "      <td>2022-11-10 17:11:57</td>\n",
              "      <td>Electronics</td>\n",
              "      <td>441</td>\n",
              "    </tr>\n",
              "    <tr>\n",
              "      <th>249997</th>\n",
              "      <td>2021-06-27 14:42:12</td>\n",
              "      <td>Electronics</td>\n",
              "      <td>44</td>\n",
              "    </tr>\n",
              "    <tr>\n",
              "      <th>249998</th>\n",
              "      <td>2020-09-07 05:12:19</td>\n",
              "      <td>Home</td>\n",
              "      <td>307</td>\n",
              "    </tr>\n",
              "  </tbody>\n",
              "</table>\n",
              "<p>249999 rows × 3 columns</p>\n",
              "</div>\n",
              "    <div class=\"colab-df-buttons\">\n",
              "\n",
              "  <div class=\"colab-df-container\">\n",
              "    <button class=\"colab-df-convert\" onclick=\"convertToInteractive('df-647cb299-ddcb-4a03-81af-6b312cbf7f9c')\"\n",
              "            title=\"Convert this dataframe to an interactive table.\"\n",
              "            style=\"display:none;\">\n",
              "\n",
              "  <svg xmlns=\"http://www.w3.org/2000/svg\" height=\"24px\" viewBox=\"0 -960 960 960\">\n",
              "    <path d=\"M120-120v-720h720v720H120Zm60-500h600v-160H180v160Zm220 220h160v-160H400v160Zm0 220h160v-160H400v160ZM180-400h160v-160H180v160Zm440 0h160v-160H620v160ZM180-180h160v-160H180v160Zm440 0h160v-160H620v160Z\"/>\n",
              "  </svg>\n",
              "    </button>\n",
              "\n",
              "  <style>\n",
              "    .colab-df-container {\n",
              "      display:flex;\n",
              "      gap: 12px;\n",
              "    }\n",
              "\n",
              "    .colab-df-convert {\n",
              "      background-color: #E8F0FE;\n",
              "      border: none;\n",
              "      border-radius: 50%;\n",
              "      cursor: pointer;\n",
              "      display: none;\n",
              "      fill: #1967D2;\n",
              "      height: 32px;\n",
              "      padding: 0 0 0 0;\n",
              "      width: 32px;\n",
              "    }\n",
              "\n",
              "    .colab-df-convert:hover {\n",
              "      background-color: #E2EBFA;\n",
              "      box-shadow: 0px 1px 2px rgba(60, 64, 67, 0.3), 0px 1px 3px 1px rgba(60, 64, 67, 0.15);\n",
              "      fill: #174EA6;\n",
              "    }\n",
              "\n",
              "    .colab-df-buttons div {\n",
              "      margin-bottom: 4px;\n",
              "    }\n",
              "\n",
              "    [theme=dark] .colab-df-convert {\n",
              "      background-color: #3B4455;\n",
              "      fill: #D2E3FC;\n",
              "    }\n",
              "\n",
              "    [theme=dark] .colab-df-convert:hover {\n",
              "      background-color: #434B5C;\n",
              "      box-shadow: 0px 1px 3px 1px rgba(0, 0, 0, 0.15);\n",
              "      filter: drop-shadow(0px 1px 2px rgba(0, 0, 0, 0.3));\n",
              "      fill: #FFFFFF;\n",
              "    }\n",
              "  </style>\n",
              "\n",
              "    <script>\n",
              "      const buttonEl =\n",
              "        document.querySelector('#df-647cb299-ddcb-4a03-81af-6b312cbf7f9c button.colab-df-convert');\n",
              "      buttonEl.style.display =\n",
              "        google.colab.kernel.accessAllowed ? 'block' : 'none';\n",
              "\n",
              "      async function convertToInteractive(key) {\n",
              "        const element = document.querySelector('#df-647cb299-ddcb-4a03-81af-6b312cbf7f9c');\n",
              "        const dataTable =\n",
              "          await google.colab.kernel.invokeFunction('convertToInteractive',\n",
              "                                                    [key], {});\n",
              "        if (!dataTable) return;\n",
              "\n",
              "        const docLinkHtml = 'Like what you see? Visit the ' +\n",
              "          '<a target=\"_blank\" href=https://colab.research.google.com/notebooks/data_table.ipynb>data table notebook</a>'\n",
              "          + ' to learn more about interactive tables.';\n",
              "        element.innerHTML = '';\n",
              "        dataTable['output_type'] = 'display_data';\n",
              "        await google.colab.output.renderOutput(dataTable, element);\n",
              "        const docLink = document.createElement('div');\n",
              "        docLink.innerHTML = docLinkHtml;\n",
              "        element.appendChild(docLink);\n",
              "      }\n",
              "    </script>\n",
              "  </div>\n",
              "\n",
              "\n",
              "<div id=\"df-4e8a1628-166a-4fe1-ae27-b3e763c67ada\">\n",
              "  <button class=\"colab-df-quickchart\" onclick=\"quickchart('df-4e8a1628-166a-4fe1-ae27-b3e763c67ada')\"\n",
              "            title=\"Suggest charts\"\n",
              "            style=\"display:none;\">\n",
              "\n",
              "<svg xmlns=\"http://www.w3.org/2000/svg\" height=\"24px\"viewBox=\"0 0 24 24\"\n",
              "     width=\"24px\">\n",
              "    <g>\n",
              "        <path d=\"M19 3H5c-1.1 0-2 .9-2 2v14c0 1.1.9 2 2 2h14c1.1 0 2-.9 2-2V5c0-1.1-.9-2-2-2zM9 17H7v-7h2v7zm4 0h-2V7h2v10zm4 0h-2v-4h2v4z\"/>\n",
              "    </g>\n",
              "</svg>\n",
              "  </button>\n",
              "\n",
              "<style>\n",
              "  .colab-df-quickchart {\n",
              "      --bg-color: #E8F0FE;\n",
              "      --fill-color: #1967D2;\n",
              "      --hover-bg-color: #E2EBFA;\n",
              "      --hover-fill-color: #174EA6;\n",
              "      --disabled-fill-color: #AAA;\n",
              "      --disabled-bg-color: #DDD;\n",
              "  }\n",
              "\n",
              "  [theme=dark] .colab-df-quickchart {\n",
              "      --bg-color: #3B4455;\n",
              "      --fill-color: #D2E3FC;\n",
              "      --hover-bg-color: #434B5C;\n",
              "      --hover-fill-color: #FFFFFF;\n",
              "      --disabled-bg-color: #3B4455;\n",
              "      --disabled-fill-color: #666;\n",
              "  }\n",
              "\n",
              "  .colab-df-quickchart {\n",
              "    background-color: var(--bg-color);\n",
              "    border: none;\n",
              "    border-radius: 50%;\n",
              "    cursor: pointer;\n",
              "    display: none;\n",
              "    fill: var(--fill-color);\n",
              "    height: 32px;\n",
              "    padding: 0;\n",
              "    width: 32px;\n",
              "  }\n",
              "\n",
              "  .colab-df-quickchart:hover {\n",
              "    background-color: var(--hover-bg-color);\n",
              "    box-shadow: 0 1px 2px rgba(60, 64, 67, 0.3), 0 1px 3px 1px rgba(60, 64, 67, 0.15);\n",
              "    fill: var(--button-hover-fill-color);\n",
              "  }\n",
              "\n",
              "  .colab-df-quickchart-complete:disabled,\n",
              "  .colab-df-quickchart-complete:disabled:hover {\n",
              "    background-color: var(--disabled-bg-color);\n",
              "    fill: var(--disabled-fill-color);\n",
              "    box-shadow: none;\n",
              "  }\n",
              "\n",
              "  .colab-df-spinner {\n",
              "    border: 2px solid var(--fill-color);\n",
              "    border-color: transparent;\n",
              "    border-bottom-color: var(--fill-color);\n",
              "    animation:\n",
              "      spin 1s steps(1) infinite;\n",
              "  }\n",
              "\n",
              "  @keyframes spin {\n",
              "    0% {\n",
              "      border-color: transparent;\n",
              "      border-bottom-color: var(--fill-color);\n",
              "      border-left-color: var(--fill-color);\n",
              "    }\n",
              "    20% {\n",
              "      border-color: transparent;\n",
              "      border-left-color: var(--fill-color);\n",
              "      border-top-color: var(--fill-color);\n",
              "    }\n",
              "    30% {\n",
              "      border-color: transparent;\n",
              "      border-left-color: var(--fill-color);\n",
              "      border-top-color: var(--fill-color);\n",
              "      border-right-color: var(--fill-color);\n",
              "    }\n",
              "    40% {\n",
              "      border-color: transparent;\n",
              "      border-right-color: var(--fill-color);\n",
              "      border-top-color: var(--fill-color);\n",
              "    }\n",
              "    60% {\n",
              "      border-color: transparent;\n",
              "      border-right-color: var(--fill-color);\n",
              "    }\n",
              "    80% {\n",
              "      border-color: transparent;\n",
              "      border-right-color: var(--fill-color);\n",
              "      border-bottom-color: var(--fill-color);\n",
              "    }\n",
              "    90% {\n",
              "      border-color: transparent;\n",
              "      border-bottom-color: var(--fill-color);\n",
              "    }\n",
              "  }\n",
              "</style>\n",
              "\n",
              "  <script>\n",
              "    async function quickchart(key) {\n",
              "      const quickchartButtonEl =\n",
              "        document.querySelector('#' + key + ' button');\n",
              "      quickchartButtonEl.disabled = true;  // To prevent multiple clicks.\n",
              "      quickchartButtonEl.classList.add('colab-df-spinner');\n",
              "      try {\n",
              "        const charts = await google.colab.kernel.invokeFunction(\n",
              "            'suggestCharts', [key], {});\n",
              "      } catch (error) {\n",
              "        console.error('Error during call to suggestCharts:', error);\n",
              "      }\n",
              "      quickchartButtonEl.classList.remove('colab-df-spinner');\n",
              "      quickchartButtonEl.classList.add('colab-df-quickchart-complete');\n",
              "    }\n",
              "    (() => {\n",
              "      let quickchartButtonEl =\n",
              "        document.querySelector('#df-4e8a1628-166a-4fe1-ae27-b3e763c67ada button');\n",
              "      quickchartButtonEl.style.display =\n",
              "        google.colab.kernel.accessAllowed ? 'block' : 'none';\n",
              "    })();\n",
              "  </script>\n",
              "</div>\n",
              "    </div>\n",
              "  </div>\n"
            ]
          },
          "metadata": {},
          "execution_count": 29
        }
      ]
    },
    {
      "cell_type": "code",
      "source": [
        "data.head()"
      ],
      "metadata": {
        "colab": {
          "base_uri": "https://localhost:8080/",
          "height": 310
        },
        "id": "4w_s982-YwAI",
        "outputId": "8e4304f6-1e14-455e-a43b-3822ea25b36f"
      },
      "execution_count": null,
      "outputs": [
        {
          "output_type": "execute_result",
          "data": {
            "text/plain": [
              "   Customer ID        Purchase Date Product Category  Product Price  Quantity  \\\n",
              "0        44605  2023-05-03 21:30:02             Home            177         1   \n",
              "1        44605  2021-05-16 13:57:44      Electronics            174         3   \n",
              "2        44605  2020-07-13 06:16:57            Books            413         1   \n",
              "3        44605  2023-01-17 13:14:36      Electronics            396         3   \n",
              "4        44605  2021-05-01 11:29:27            Books            259         4   \n",
              "\n",
              "   Total Purchase Amount Payment Method  Customer Age  Returns Customer Name  \\\n",
              "0                   2427         PayPal            31      1.0   John Rivera   \n",
              "1                   2448         PayPal            31      1.0   John Rivera   \n",
              "2                   2345    Credit Card            31      1.0   John Rivera   \n",
              "3                    937           Cash            31      0.0   John Rivera   \n",
              "4                   2598         PayPal            31      1.0   John Rivera   \n",
              "\n",
              "   Age  Gender  Churn  \n",
              "0   31  Female      0  \n",
              "1   31  Female      0  \n",
              "2   31  Female      0  \n",
              "3   31  Female      0  \n",
              "4   31  Female      0  "
            ],
            "text/html": [
              "\n",
              "  <div id=\"df-b6b632c0-d475-44dc-9afe-56d7b6461978\" class=\"colab-df-container\">\n",
              "    <div>\n",
              "<style scoped>\n",
              "    .dataframe tbody tr th:only-of-type {\n",
              "        vertical-align: middle;\n",
              "    }\n",
              "\n",
              "    .dataframe tbody tr th {\n",
              "        vertical-align: top;\n",
              "    }\n",
              "\n",
              "    .dataframe thead th {\n",
              "        text-align: right;\n",
              "    }\n",
              "</style>\n",
              "<table border=\"1\" class=\"dataframe\">\n",
              "  <thead>\n",
              "    <tr style=\"text-align: right;\">\n",
              "      <th></th>\n",
              "      <th>Customer ID</th>\n",
              "      <th>Purchase Date</th>\n",
              "      <th>Product Category</th>\n",
              "      <th>Product Price</th>\n",
              "      <th>Quantity</th>\n",
              "      <th>Total Purchase Amount</th>\n",
              "      <th>Payment Method</th>\n",
              "      <th>Customer Age</th>\n",
              "      <th>Returns</th>\n",
              "      <th>Customer Name</th>\n",
              "      <th>Age</th>\n",
              "      <th>Gender</th>\n",
              "      <th>Churn</th>\n",
              "    </tr>\n",
              "  </thead>\n",
              "  <tbody>\n",
              "    <tr>\n",
              "      <th>0</th>\n",
              "      <td>44605</td>\n",
              "      <td>2023-05-03 21:30:02</td>\n",
              "      <td>Home</td>\n",
              "      <td>177</td>\n",
              "      <td>1</td>\n",
              "      <td>2427</td>\n",
              "      <td>PayPal</td>\n",
              "      <td>31</td>\n",
              "      <td>1.0</td>\n",
              "      <td>John Rivera</td>\n",
              "      <td>31</td>\n",
              "      <td>Female</td>\n",
              "      <td>0</td>\n",
              "    </tr>\n",
              "    <tr>\n",
              "      <th>1</th>\n",
              "      <td>44605</td>\n",
              "      <td>2021-05-16 13:57:44</td>\n",
              "      <td>Electronics</td>\n",
              "      <td>174</td>\n",
              "      <td>3</td>\n",
              "      <td>2448</td>\n",
              "      <td>PayPal</td>\n",
              "      <td>31</td>\n",
              "      <td>1.0</td>\n",
              "      <td>John Rivera</td>\n",
              "      <td>31</td>\n",
              "      <td>Female</td>\n",
              "      <td>0</td>\n",
              "    </tr>\n",
              "    <tr>\n",
              "      <th>2</th>\n",
              "      <td>44605</td>\n",
              "      <td>2020-07-13 06:16:57</td>\n",
              "      <td>Books</td>\n",
              "      <td>413</td>\n",
              "      <td>1</td>\n",
              "      <td>2345</td>\n",
              "      <td>Credit Card</td>\n",
              "      <td>31</td>\n",
              "      <td>1.0</td>\n",
              "      <td>John Rivera</td>\n",
              "      <td>31</td>\n",
              "      <td>Female</td>\n",
              "      <td>0</td>\n",
              "    </tr>\n",
              "    <tr>\n",
              "      <th>3</th>\n",
              "      <td>44605</td>\n",
              "      <td>2023-01-17 13:14:36</td>\n",
              "      <td>Electronics</td>\n",
              "      <td>396</td>\n",
              "      <td>3</td>\n",
              "      <td>937</td>\n",
              "      <td>Cash</td>\n",
              "      <td>31</td>\n",
              "      <td>0.0</td>\n",
              "      <td>John Rivera</td>\n",
              "      <td>31</td>\n",
              "      <td>Female</td>\n",
              "      <td>0</td>\n",
              "    </tr>\n",
              "    <tr>\n",
              "      <th>4</th>\n",
              "      <td>44605</td>\n",
              "      <td>2021-05-01 11:29:27</td>\n",
              "      <td>Books</td>\n",
              "      <td>259</td>\n",
              "      <td>4</td>\n",
              "      <td>2598</td>\n",
              "      <td>PayPal</td>\n",
              "      <td>31</td>\n",
              "      <td>1.0</td>\n",
              "      <td>John Rivera</td>\n",
              "      <td>31</td>\n",
              "      <td>Female</td>\n",
              "      <td>0</td>\n",
              "    </tr>\n",
              "  </tbody>\n",
              "</table>\n",
              "</div>\n",
              "    <div class=\"colab-df-buttons\">\n",
              "\n",
              "  <div class=\"colab-df-container\">\n",
              "    <button class=\"colab-df-convert\" onclick=\"convertToInteractive('df-b6b632c0-d475-44dc-9afe-56d7b6461978')\"\n",
              "            title=\"Convert this dataframe to an interactive table.\"\n",
              "            style=\"display:none;\">\n",
              "\n",
              "  <svg xmlns=\"http://www.w3.org/2000/svg\" height=\"24px\" viewBox=\"0 -960 960 960\">\n",
              "    <path d=\"M120-120v-720h720v720H120Zm60-500h600v-160H180v160Zm220 220h160v-160H400v160Zm0 220h160v-160H400v160ZM180-400h160v-160H180v160Zm440 0h160v-160H620v160ZM180-180h160v-160H180v160Zm440 0h160v-160H620v160Z\"/>\n",
              "  </svg>\n",
              "    </button>\n",
              "\n",
              "  <style>\n",
              "    .colab-df-container {\n",
              "      display:flex;\n",
              "      gap: 12px;\n",
              "    }\n",
              "\n",
              "    .colab-df-convert {\n",
              "      background-color: #E8F0FE;\n",
              "      border: none;\n",
              "      border-radius: 50%;\n",
              "      cursor: pointer;\n",
              "      display: none;\n",
              "      fill: #1967D2;\n",
              "      height: 32px;\n",
              "      padding: 0 0 0 0;\n",
              "      width: 32px;\n",
              "    }\n",
              "\n",
              "    .colab-df-convert:hover {\n",
              "      background-color: #E2EBFA;\n",
              "      box-shadow: 0px 1px 2px rgba(60, 64, 67, 0.3), 0px 1px 3px 1px rgba(60, 64, 67, 0.15);\n",
              "      fill: #174EA6;\n",
              "    }\n",
              "\n",
              "    .colab-df-buttons div {\n",
              "      margin-bottom: 4px;\n",
              "    }\n",
              "\n",
              "    [theme=dark] .colab-df-convert {\n",
              "      background-color: #3B4455;\n",
              "      fill: #D2E3FC;\n",
              "    }\n",
              "\n",
              "    [theme=dark] .colab-df-convert:hover {\n",
              "      background-color: #434B5C;\n",
              "      box-shadow: 0px 1px 3px 1px rgba(0, 0, 0, 0.15);\n",
              "      filter: drop-shadow(0px 1px 2px rgba(0, 0, 0, 0.3));\n",
              "      fill: #FFFFFF;\n",
              "    }\n",
              "  </style>\n",
              "\n",
              "    <script>\n",
              "      const buttonEl =\n",
              "        document.querySelector('#df-b6b632c0-d475-44dc-9afe-56d7b6461978 button.colab-df-convert');\n",
              "      buttonEl.style.display =\n",
              "        google.colab.kernel.accessAllowed ? 'block' : 'none';\n",
              "\n",
              "      async function convertToInteractive(key) {\n",
              "        const element = document.querySelector('#df-b6b632c0-d475-44dc-9afe-56d7b6461978');\n",
              "        const dataTable =\n",
              "          await google.colab.kernel.invokeFunction('convertToInteractive',\n",
              "                                                    [key], {});\n",
              "        if (!dataTable) return;\n",
              "\n",
              "        const docLinkHtml = 'Like what you see? Visit the ' +\n",
              "          '<a target=\"_blank\" href=https://colab.research.google.com/notebooks/data_table.ipynb>data table notebook</a>'\n",
              "          + ' to learn more about interactive tables.';\n",
              "        element.innerHTML = '';\n",
              "        dataTable['output_type'] = 'display_data';\n",
              "        await google.colab.output.renderOutput(dataTable, element);\n",
              "        const docLink = document.createElement('div');\n",
              "        docLink.innerHTML = docLinkHtml;\n",
              "        element.appendChild(docLink);\n",
              "      }\n",
              "    </script>\n",
              "  </div>\n",
              "\n",
              "\n",
              "<div id=\"df-f8e4b8da-5e26-4802-a310-bc743e1b3431\">\n",
              "  <button class=\"colab-df-quickchart\" onclick=\"quickchart('df-f8e4b8da-5e26-4802-a310-bc743e1b3431')\"\n",
              "            title=\"Suggest charts\"\n",
              "            style=\"display:none;\">\n",
              "\n",
              "<svg xmlns=\"http://www.w3.org/2000/svg\" height=\"24px\"viewBox=\"0 0 24 24\"\n",
              "     width=\"24px\">\n",
              "    <g>\n",
              "        <path d=\"M19 3H5c-1.1 0-2 .9-2 2v14c0 1.1.9 2 2 2h14c1.1 0 2-.9 2-2V5c0-1.1-.9-2-2-2zM9 17H7v-7h2v7zm4 0h-2V7h2v10zm4 0h-2v-4h2v4z\"/>\n",
              "    </g>\n",
              "</svg>\n",
              "  </button>\n",
              "\n",
              "<style>\n",
              "  .colab-df-quickchart {\n",
              "      --bg-color: #E8F0FE;\n",
              "      --fill-color: #1967D2;\n",
              "      --hover-bg-color: #E2EBFA;\n",
              "      --hover-fill-color: #174EA6;\n",
              "      --disabled-fill-color: #AAA;\n",
              "      --disabled-bg-color: #DDD;\n",
              "  }\n",
              "\n",
              "  [theme=dark] .colab-df-quickchart {\n",
              "      --bg-color: #3B4455;\n",
              "      --fill-color: #D2E3FC;\n",
              "      --hover-bg-color: #434B5C;\n",
              "      --hover-fill-color: #FFFFFF;\n",
              "      --disabled-bg-color: #3B4455;\n",
              "      --disabled-fill-color: #666;\n",
              "  }\n",
              "\n",
              "  .colab-df-quickchart {\n",
              "    background-color: var(--bg-color);\n",
              "    border: none;\n",
              "    border-radius: 50%;\n",
              "    cursor: pointer;\n",
              "    display: none;\n",
              "    fill: var(--fill-color);\n",
              "    height: 32px;\n",
              "    padding: 0;\n",
              "    width: 32px;\n",
              "  }\n",
              "\n",
              "  .colab-df-quickchart:hover {\n",
              "    background-color: var(--hover-bg-color);\n",
              "    box-shadow: 0 1px 2px rgba(60, 64, 67, 0.3), 0 1px 3px 1px rgba(60, 64, 67, 0.15);\n",
              "    fill: var(--button-hover-fill-color);\n",
              "  }\n",
              "\n",
              "  .colab-df-quickchart-complete:disabled,\n",
              "  .colab-df-quickchart-complete:disabled:hover {\n",
              "    background-color: var(--disabled-bg-color);\n",
              "    fill: var(--disabled-fill-color);\n",
              "    box-shadow: none;\n",
              "  }\n",
              "\n",
              "  .colab-df-spinner {\n",
              "    border: 2px solid var(--fill-color);\n",
              "    border-color: transparent;\n",
              "    border-bottom-color: var(--fill-color);\n",
              "    animation:\n",
              "      spin 1s steps(1) infinite;\n",
              "  }\n",
              "\n",
              "  @keyframes spin {\n",
              "    0% {\n",
              "      border-color: transparent;\n",
              "      border-bottom-color: var(--fill-color);\n",
              "      border-left-color: var(--fill-color);\n",
              "    }\n",
              "    20% {\n",
              "      border-color: transparent;\n",
              "      border-left-color: var(--fill-color);\n",
              "      border-top-color: var(--fill-color);\n",
              "    }\n",
              "    30% {\n",
              "      border-color: transparent;\n",
              "      border-left-color: var(--fill-color);\n",
              "      border-top-color: var(--fill-color);\n",
              "      border-right-color: var(--fill-color);\n",
              "    }\n",
              "    40% {\n",
              "      border-color: transparent;\n",
              "      border-right-color: var(--fill-color);\n",
              "      border-top-color: var(--fill-color);\n",
              "    }\n",
              "    60% {\n",
              "      border-color: transparent;\n",
              "      border-right-color: var(--fill-color);\n",
              "    }\n",
              "    80% {\n",
              "      border-color: transparent;\n",
              "      border-right-color: var(--fill-color);\n",
              "      border-bottom-color: var(--fill-color);\n",
              "    }\n",
              "    90% {\n",
              "      border-color: transparent;\n",
              "      border-bottom-color: var(--fill-color);\n",
              "    }\n",
              "  }\n",
              "</style>\n",
              "\n",
              "  <script>\n",
              "    async function quickchart(key) {\n",
              "      const quickchartButtonEl =\n",
              "        document.querySelector('#' + key + ' button');\n",
              "      quickchartButtonEl.disabled = true;  // To prevent multiple clicks.\n",
              "      quickchartButtonEl.classList.add('colab-df-spinner');\n",
              "      try {\n",
              "        const charts = await google.colab.kernel.invokeFunction(\n",
              "            'suggestCharts', [key], {});\n",
              "      } catch (error) {\n",
              "        console.error('Error during call to suggestCharts:', error);\n",
              "      }\n",
              "      quickchartButtonEl.classList.remove('colab-df-spinner');\n",
              "      quickchartButtonEl.classList.add('colab-df-quickchart-complete');\n",
              "    }\n",
              "    (() => {\n",
              "      let quickchartButtonEl =\n",
              "        document.querySelector('#df-f8e4b8da-5e26-4802-a310-bc743e1b3431 button');\n",
              "      quickchartButtonEl.style.display =\n",
              "        google.colab.kernel.accessAllowed ? 'block' : 'none';\n",
              "    })();\n",
              "  </script>\n",
              "</div>\n",
              "    </div>\n",
              "  </div>\n"
            ]
          },
          "metadata": {},
          "execution_count": 30
        }
      ]
    },
    {
      "cell_type": "code",
      "source": [
        "# Removed the  'CustomerID' from  our dataset\n",
        "del data['Customer ID']"
      ],
      "metadata": {
        "id": "qmylLUyUt0bi"
      },
      "execution_count": null,
      "outputs": []
    },
    {
      "cell_type": "code",
      "source": [
        "# Finding out how many rows and columns in this dataset and their dtypes\n",
        "print('Data shape: %d rows and %d cols.' % data.shape)\n",
        "\n",
        "data.info()"
      ],
      "metadata": {
        "colab": {
          "base_uri": "https://localhost:8080/"
        },
        "id": "Kt_59WUDt3SU",
        "outputId": "bb7c6263-c004-401c-a42a-ffc1487e69f6"
      },
      "execution_count": null,
      "outputs": [
        {
          "output_type": "stream",
          "name": "stdout",
          "text": [
            "Data shape: 250000 rows and 12 cols.\n",
            "<class 'pandas.core.frame.DataFrame'>\n",
            "RangeIndex: 250000 entries, 0 to 249999\n",
            "Data columns (total 12 columns):\n",
            " #   Column                 Non-Null Count   Dtype  \n",
            "---  ------                 --------------   -----  \n",
            " 0   Purchase Date          250000 non-null  object \n",
            " 1   Product Category       250000 non-null  object \n",
            " 2   Product Price          250000 non-null  int64  \n",
            " 3   Quantity               250000 non-null  int64  \n",
            " 4   Total Purchase Amount  250000 non-null  int64  \n",
            " 5   Payment Method         250000 non-null  object \n",
            " 6   Customer Age           250000 non-null  int64  \n",
            " 7   Returns                202618 non-null  float64\n",
            " 8   Customer Name          250000 non-null  object \n",
            " 9   Age                    250000 non-null  int64  \n",
            " 10  Gender                 250000 non-null  object \n",
            " 11  Churn                  250000 non-null  int64  \n",
            "dtypes: float64(1), int64(6), object(5)\n",
            "memory usage: 22.9+ MB\n"
          ]
        }
      ]
    },
    {
      "cell_type": "markdown",
      "source": [
        "**Data Cleaning**\n",
        "\n",
        "We have cleaned the data in the section below to obtain the best possible data for our research, visualizations, and machine learning model fitting. We have carried out the subsequent actions: 1. Eliminating Superfluous Columns 2-Rounding the characteristics using the mean 3. Using the mean to fill in the blanks"
      ],
      "metadata": {
        "id": "Ekujw1w7LqHJ"
      }
    },
    {
      "cell_type": "code",
      "source": [
        "# Now we will find out missing values in each column?\n",
        "\n",
        "total = data.isnull().sum().sum()\n",
        "print(f\"Total number of  missing values: {total} ({ round((total/data.shape[0])*100, 2) }%)\")\n",
        "\n",
        "data.isnull().sum()"
      ],
      "metadata": {
        "colab": {
          "base_uri": "https://localhost:8080/"
        },
        "id": "Uwu1IlXfNKCi",
        "outputId": "70ff107e-98bb-41ae-d698-46a59f4f43ae"
      },
      "execution_count": null,
      "outputs": [
        {
          "output_type": "stream",
          "name": "stdout",
          "text": [
            "Total number of  missing values: 47382 (18.95%)\n"
          ]
        },
        {
          "output_type": "execute_result",
          "data": {
            "text/plain": [
              "Purchase Date                0\n",
              "Product Category             0\n",
              "Product Price                0\n",
              "Quantity                     0\n",
              "Total Purchase Amount        0\n",
              "Payment Method               0\n",
              "Customer Age                 0\n",
              "Returns                  47382\n",
              "Customer Name                0\n",
              "Age                          0\n",
              "Gender                       0\n",
              "Churn                        0\n",
              "dtype: int64"
            ]
          },
          "metadata": {},
          "execution_count": 33
        }
      ]
    },
    {
      "cell_type": "code",
      "source": [
        "total_na = data.isnull().sum().sum()\n",
        "print(f\"Total missing values: {total_na} ({ round((total_na/data.shape[0])*100, 2) }%)\")\n",
        "\n",
        "data.isnull().sum()"
      ],
      "metadata": {
        "colab": {
          "base_uri": "https://localhost:8080/"
        },
        "id": "yAnKqJ59XqFz",
        "outputId": "e2021a97-fa82-4ef2-bb4e-7e71f6714934"
      },
      "execution_count": null,
      "outputs": [
        {
          "output_type": "stream",
          "name": "stdout",
          "text": [
            "Total missing values: 47382 (18.95%)\n"
          ]
        },
        {
          "output_type": "execute_result",
          "data": {
            "text/plain": [
              "Purchase Date                0\n",
              "Product Category             0\n",
              "Product Price                0\n",
              "Quantity                     0\n",
              "Total Purchase Amount        0\n",
              "Payment Method               0\n",
              "Customer Age                 0\n",
              "Returns                  47382\n",
              "Customer Name                0\n",
              "Age                          0\n",
              "Gender                       0\n",
              "Churn                        0\n",
              "dtype: int64"
            ]
          },
          "metadata": {},
          "execution_count": 34
        }
      ]
    },
    {
      "cell_type": "code",
      "source": [
        "# Before we handle missing values, let's see the statistical summary of this dataset\n",
        "data.describe().transpose()"
      ],
      "metadata": {
        "colab": {
          "base_uri": "https://localhost:8080/",
          "height": 269
        },
        "id": "znUoRSHct-Jp",
        "outputId": "979d4114-384e-4a91-a178-0d9f0cca8999"
      },
      "execution_count": null,
      "outputs": [
        {
          "output_type": "execute_result",
          "data": {
            "text/plain": [
              "                          count         mean          std    min     25%  \\\n",
              "Product Price          250000.0   254.742724   141.738104   10.0   132.0   \n",
              "Quantity               250000.0     3.004936     1.414737    1.0     2.0   \n",
              "Total Purchase Amount  250000.0  2725.385196  1442.576095  100.0  1476.0   \n",
              "Customer Age           250000.0    43.798276    15.364915   18.0    30.0   \n",
              "Returns                202618.0     0.500824     0.500001    0.0     0.0   \n",
              "Age                    250000.0    43.798276    15.364915   18.0    30.0   \n",
              "Churn                  250000.0     0.200520     0.400390    0.0     0.0   \n",
              "\n",
              "                          50%     75%     max  \n",
              "Product Price           255.0   377.0   500.0  \n",
              "Quantity                  3.0     4.0     5.0  \n",
              "Total Purchase Amount  2725.0  3975.0  5350.0  \n",
              "Customer Age             44.0    57.0    70.0  \n",
              "Returns                   1.0     1.0     1.0  \n",
              "Age                      44.0    57.0    70.0  \n",
              "Churn                     0.0     0.0     1.0  "
            ],
            "text/html": [
              "\n",
              "  <div id=\"df-3d25024a-d6a0-4139-ad21-e152e42ed7fd\" class=\"colab-df-container\">\n",
              "    <div>\n",
              "<style scoped>\n",
              "    .dataframe tbody tr th:only-of-type {\n",
              "        vertical-align: middle;\n",
              "    }\n",
              "\n",
              "    .dataframe tbody tr th {\n",
              "        vertical-align: top;\n",
              "    }\n",
              "\n",
              "    .dataframe thead th {\n",
              "        text-align: right;\n",
              "    }\n",
              "</style>\n",
              "<table border=\"1\" class=\"dataframe\">\n",
              "  <thead>\n",
              "    <tr style=\"text-align: right;\">\n",
              "      <th></th>\n",
              "      <th>count</th>\n",
              "      <th>mean</th>\n",
              "      <th>std</th>\n",
              "      <th>min</th>\n",
              "      <th>25%</th>\n",
              "      <th>50%</th>\n",
              "      <th>75%</th>\n",
              "      <th>max</th>\n",
              "    </tr>\n",
              "  </thead>\n",
              "  <tbody>\n",
              "    <tr>\n",
              "      <th>Product Price</th>\n",
              "      <td>250000.0</td>\n",
              "      <td>254.742724</td>\n",
              "      <td>141.738104</td>\n",
              "      <td>10.0</td>\n",
              "      <td>132.0</td>\n",
              "      <td>255.0</td>\n",
              "      <td>377.0</td>\n",
              "      <td>500.0</td>\n",
              "    </tr>\n",
              "    <tr>\n",
              "      <th>Quantity</th>\n",
              "      <td>250000.0</td>\n",
              "      <td>3.004936</td>\n",
              "      <td>1.414737</td>\n",
              "      <td>1.0</td>\n",
              "      <td>2.0</td>\n",
              "      <td>3.0</td>\n",
              "      <td>4.0</td>\n",
              "      <td>5.0</td>\n",
              "    </tr>\n",
              "    <tr>\n",
              "      <th>Total Purchase Amount</th>\n",
              "      <td>250000.0</td>\n",
              "      <td>2725.385196</td>\n",
              "      <td>1442.576095</td>\n",
              "      <td>100.0</td>\n",
              "      <td>1476.0</td>\n",
              "      <td>2725.0</td>\n",
              "      <td>3975.0</td>\n",
              "      <td>5350.0</td>\n",
              "    </tr>\n",
              "    <tr>\n",
              "      <th>Customer Age</th>\n",
              "      <td>250000.0</td>\n",
              "      <td>43.798276</td>\n",
              "      <td>15.364915</td>\n",
              "      <td>18.0</td>\n",
              "      <td>30.0</td>\n",
              "      <td>44.0</td>\n",
              "      <td>57.0</td>\n",
              "      <td>70.0</td>\n",
              "    </tr>\n",
              "    <tr>\n",
              "      <th>Returns</th>\n",
              "      <td>202618.0</td>\n",
              "      <td>0.500824</td>\n",
              "      <td>0.500001</td>\n",
              "      <td>0.0</td>\n",
              "      <td>0.0</td>\n",
              "      <td>1.0</td>\n",
              "      <td>1.0</td>\n",
              "      <td>1.0</td>\n",
              "    </tr>\n",
              "    <tr>\n",
              "      <th>Age</th>\n",
              "      <td>250000.0</td>\n",
              "      <td>43.798276</td>\n",
              "      <td>15.364915</td>\n",
              "      <td>18.0</td>\n",
              "      <td>30.0</td>\n",
              "      <td>44.0</td>\n",
              "      <td>57.0</td>\n",
              "      <td>70.0</td>\n",
              "    </tr>\n",
              "    <tr>\n",
              "      <th>Churn</th>\n",
              "      <td>250000.0</td>\n",
              "      <td>0.200520</td>\n",
              "      <td>0.400390</td>\n",
              "      <td>0.0</td>\n",
              "      <td>0.0</td>\n",
              "      <td>0.0</td>\n",
              "      <td>0.0</td>\n",
              "      <td>1.0</td>\n",
              "    </tr>\n",
              "  </tbody>\n",
              "</table>\n",
              "</div>\n",
              "    <div class=\"colab-df-buttons\">\n",
              "\n",
              "  <div class=\"colab-df-container\">\n",
              "    <button class=\"colab-df-convert\" onclick=\"convertToInteractive('df-3d25024a-d6a0-4139-ad21-e152e42ed7fd')\"\n",
              "            title=\"Convert this dataframe to an interactive table.\"\n",
              "            style=\"display:none;\">\n",
              "\n",
              "  <svg xmlns=\"http://www.w3.org/2000/svg\" height=\"24px\" viewBox=\"0 -960 960 960\">\n",
              "    <path d=\"M120-120v-720h720v720H120Zm60-500h600v-160H180v160Zm220 220h160v-160H400v160Zm0 220h160v-160H400v160ZM180-400h160v-160H180v160Zm440 0h160v-160H620v160ZM180-180h160v-160H180v160Zm440 0h160v-160H620v160Z\"/>\n",
              "  </svg>\n",
              "    </button>\n",
              "\n",
              "  <style>\n",
              "    .colab-df-container {\n",
              "      display:flex;\n",
              "      gap: 12px;\n",
              "    }\n",
              "\n",
              "    .colab-df-convert {\n",
              "      background-color: #E8F0FE;\n",
              "      border: none;\n",
              "      border-radius: 50%;\n",
              "      cursor: pointer;\n",
              "      display: none;\n",
              "      fill: #1967D2;\n",
              "      height: 32px;\n",
              "      padding: 0 0 0 0;\n",
              "      width: 32px;\n",
              "    }\n",
              "\n",
              "    .colab-df-convert:hover {\n",
              "      background-color: #E2EBFA;\n",
              "      box-shadow: 0px 1px 2px rgba(60, 64, 67, 0.3), 0px 1px 3px 1px rgba(60, 64, 67, 0.15);\n",
              "      fill: #174EA6;\n",
              "    }\n",
              "\n",
              "    .colab-df-buttons div {\n",
              "      margin-bottom: 4px;\n",
              "    }\n",
              "\n",
              "    [theme=dark] .colab-df-convert {\n",
              "      background-color: #3B4455;\n",
              "      fill: #D2E3FC;\n",
              "    }\n",
              "\n",
              "    [theme=dark] .colab-df-convert:hover {\n",
              "      background-color: #434B5C;\n",
              "      box-shadow: 0px 1px 3px 1px rgba(0, 0, 0, 0.15);\n",
              "      filter: drop-shadow(0px 1px 2px rgba(0, 0, 0, 0.3));\n",
              "      fill: #FFFFFF;\n",
              "    }\n",
              "  </style>\n",
              "\n",
              "    <script>\n",
              "      const buttonEl =\n",
              "        document.querySelector('#df-3d25024a-d6a0-4139-ad21-e152e42ed7fd button.colab-df-convert');\n",
              "      buttonEl.style.display =\n",
              "        google.colab.kernel.accessAllowed ? 'block' : 'none';\n",
              "\n",
              "      async function convertToInteractive(key) {\n",
              "        const element = document.querySelector('#df-3d25024a-d6a0-4139-ad21-e152e42ed7fd');\n",
              "        const dataTable =\n",
              "          await google.colab.kernel.invokeFunction('convertToInteractive',\n",
              "                                                    [key], {});\n",
              "        if (!dataTable) return;\n",
              "\n",
              "        const docLinkHtml = 'Like what you see? Visit the ' +\n",
              "          '<a target=\"_blank\" href=https://colab.research.google.com/notebooks/data_table.ipynb>data table notebook</a>'\n",
              "          + ' to learn more about interactive tables.';\n",
              "        element.innerHTML = '';\n",
              "        dataTable['output_type'] = 'display_data';\n",
              "        await google.colab.output.renderOutput(dataTable, element);\n",
              "        const docLink = document.createElement('div');\n",
              "        docLink.innerHTML = docLinkHtml;\n",
              "        element.appendChild(docLink);\n",
              "      }\n",
              "    </script>\n",
              "  </div>\n",
              "\n",
              "\n",
              "<div id=\"df-3a711a87-d119-4cc3-aab7-6a514a4ca130\">\n",
              "  <button class=\"colab-df-quickchart\" onclick=\"quickchart('df-3a711a87-d119-4cc3-aab7-6a514a4ca130')\"\n",
              "            title=\"Suggest charts\"\n",
              "            style=\"display:none;\">\n",
              "\n",
              "<svg xmlns=\"http://www.w3.org/2000/svg\" height=\"24px\"viewBox=\"0 0 24 24\"\n",
              "     width=\"24px\">\n",
              "    <g>\n",
              "        <path d=\"M19 3H5c-1.1 0-2 .9-2 2v14c0 1.1.9 2 2 2h14c1.1 0 2-.9 2-2V5c0-1.1-.9-2-2-2zM9 17H7v-7h2v7zm4 0h-2V7h2v10zm4 0h-2v-4h2v4z\"/>\n",
              "    </g>\n",
              "</svg>\n",
              "  </button>\n",
              "\n",
              "<style>\n",
              "  .colab-df-quickchart {\n",
              "      --bg-color: #E8F0FE;\n",
              "      --fill-color: #1967D2;\n",
              "      --hover-bg-color: #E2EBFA;\n",
              "      --hover-fill-color: #174EA6;\n",
              "      --disabled-fill-color: #AAA;\n",
              "      --disabled-bg-color: #DDD;\n",
              "  }\n",
              "\n",
              "  [theme=dark] .colab-df-quickchart {\n",
              "      --bg-color: #3B4455;\n",
              "      --fill-color: #D2E3FC;\n",
              "      --hover-bg-color: #434B5C;\n",
              "      --hover-fill-color: #FFFFFF;\n",
              "      --disabled-bg-color: #3B4455;\n",
              "      --disabled-fill-color: #666;\n",
              "  }\n",
              "\n",
              "  .colab-df-quickchart {\n",
              "    background-color: var(--bg-color);\n",
              "    border: none;\n",
              "    border-radius: 50%;\n",
              "    cursor: pointer;\n",
              "    display: none;\n",
              "    fill: var(--fill-color);\n",
              "    height: 32px;\n",
              "    padding: 0;\n",
              "    width: 32px;\n",
              "  }\n",
              "\n",
              "  .colab-df-quickchart:hover {\n",
              "    background-color: var(--hover-bg-color);\n",
              "    box-shadow: 0 1px 2px rgba(60, 64, 67, 0.3), 0 1px 3px 1px rgba(60, 64, 67, 0.15);\n",
              "    fill: var(--button-hover-fill-color);\n",
              "  }\n",
              "\n",
              "  .colab-df-quickchart-complete:disabled,\n",
              "  .colab-df-quickchart-complete:disabled:hover {\n",
              "    background-color: var(--disabled-bg-color);\n",
              "    fill: var(--disabled-fill-color);\n",
              "    box-shadow: none;\n",
              "  }\n",
              "\n",
              "  .colab-df-spinner {\n",
              "    border: 2px solid var(--fill-color);\n",
              "    border-color: transparent;\n",
              "    border-bottom-color: var(--fill-color);\n",
              "    animation:\n",
              "      spin 1s steps(1) infinite;\n",
              "  }\n",
              "\n",
              "  @keyframes spin {\n",
              "    0% {\n",
              "      border-color: transparent;\n",
              "      border-bottom-color: var(--fill-color);\n",
              "      border-left-color: var(--fill-color);\n",
              "    }\n",
              "    20% {\n",
              "      border-color: transparent;\n",
              "      border-left-color: var(--fill-color);\n",
              "      border-top-color: var(--fill-color);\n",
              "    }\n",
              "    30% {\n",
              "      border-color: transparent;\n",
              "      border-left-color: var(--fill-color);\n",
              "      border-top-color: var(--fill-color);\n",
              "      border-right-color: var(--fill-color);\n",
              "    }\n",
              "    40% {\n",
              "      border-color: transparent;\n",
              "      border-right-color: var(--fill-color);\n",
              "      border-top-color: var(--fill-color);\n",
              "    }\n",
              "    60% {\n",
              "      border-color: transparent;\n",
              "      border-right-color: var(--fill-color);\n",
              "    }\n",
              "    80% {\n",
              "      border-color: transparent;\n",
              "      border-right-color: var(--fill-color);\n",
              "      border-bottom-color: var(--fill-color);\n",
              "    }\n",
              "    90% {\n",
              "      border-color: transparent;\n",
              "      border-bottom-color: var(--fill-color);\n",
              "    }\n",
              "  }\n",
              "</style>\n",
              "\n",
              "  <script>\n",
              "    async function quickchart(key) {\n",
              "      const quickchartButtonEl =\n",
              "        document.querySelector('#' + key + ' button');\n",
              "      quickchartButtonEl.disabled = true;  // To prevent multiple clicks.\n",
              "      quickchartButtonEl.classList.add('colab-df-spinner');\n",
              "      try {\n",
              "        const charts = await google.colab.kernel.invokeFunction(\n",
              "            'suggestCharts', [key], {});\n",
              "      } catch (error) {\n",
              "        console.error('Error during call to suggestCharts:', error);\n",
              "      }\n",
              "      quickchartButtonEl.classList.remove('colab-df-spinner');\n",
              "      quickchartButtonEl.classList.add('colab-df-quickchart-complete');\n",
              "    }\n",
              "    (() => {\n",
              "      let quickchartButtonEl =\n",
              "        document.querySelector('#df-3a711a87-d119-4cc3-aab7-6a514a4ca130 button');\n",
              "      quickchartButtonEl.style.display =\n",
              "        google.colab.kernel.accessAllowed ? 'block' : 'none';\n",
              "    })();\n",
              "  </script>\n",
              "</div>\n",
              "    </div>\n",
              "  </div>\n"
            ]
          },
          "metadata": {},
          "execution_count": 35
        }
      ]
    },
    {
      "cell_type": "code",
      "source": [
        "# Now let's fill those missing values\n",
        "for col in data.columns:\n",
        "    if data[col].isnull().sum() > 0:\n",
        "        data[col].fillna(data[col].median(), inplace=True)\n",
        "\n",
        "# Done. Checking the missing values for the last time\n",
        "data.isnull().sum();"
      ],
      "metadata": {
        "id": "ev5ULIE8uFgv"
      },
      "execution_count": null,
      "outputs": []
    },
    {
      "cell_type": "markdown",
      "source": [
        "**Data Visualization**"
      ],
      "metadata": {
        "id": "4Gm9BFYbMD9V"
      }
    },
    {
      "cell_type": "code",
      "source": [
        "#  percentage of customer churn\n",
        "labels = ['Retained','Churn']\n",
        "counts = data['Churn'].value_counts()\n",
        "\n",
        "plt.figure(figsize=(6,6))\n",
        "plt.title('Percentage of Customer Churn')\n",
        "plt.pie(counts, autopct='%1.1f%%', labels=labels, textprops={\"fontsize\":14})\n",
        "plt.show()"
      ],
      "metadata": {
        "colab": {
          "base_uri": "https://localhost:8080/",
          "height": 521
        },
        "id": "X2VTXnb6uJyK",
        "outputId": "ddd846b1-5c4a-46a4-9c14-97b98764cf06"
      },
      "execution_count": null,
      "outputs": [
        {
          "output_type": "display_data",
          "data": {
            "text/plain": [
              "<Figure size 600x600 with 1 Axes>"
            ],
            "image/png": "[encoded data removed]"
          },
          "metadata": {}
        }
      ]
    },
    {
      "cell_type": "code",
      "source": [
        "# The  gender most likely to churn is revelaed\n",
        "sns.countplot(x=data['Churn'], hue=data['Gender'])\n",
        "plt.title('Customer Churn based on cutsomers Gender')\n",
        "plt.show()"
      ],
      "metadata": {
        "colab": {
          "base_uri": "https://localhost:8080/",
          "height": 472
        },
        "id": "0huABt4VuRw3",
        "outputId": "e9fdf27f-6cfa-41bd-807e-aef3dffeb491"
      },
      "execution_count": null,
      "outputs": [
        {
          "output_type": "display_data",
          "data": {
            "text/plain": [
              "<Figure size 640x480 with 1 Axes>"
            ],
            "image/png": "[encoded data removed]"
          },
          "metadata": {}
        }
      ]
    },
    {
      "cell_type": "code",
      "source": [
        "plt.figure(figsize=(10,5))\n",
        "sns.countplot(x=data['Payment Method'])\n",
        "plt.title('Customer Preferred Payment')\n",
        "plt.show()"
      ],
      "metadata": {
        "colab": {
          "base_uri": "https://localhost:8080/",
          "height": 487
        },
        "id": "LazvftRV1ele",
        "outputId": "116bfb28-7786-4761-9389-73101a6122b3"
      },
      "execution_count": null,
      "outputs": [
        {
          "output_type": "display_data",
          "data": {
            "text/plain": [
              "<Figure size 1000x500 with 1 Axes>"
            ],
            "image/png": "[encoded data removed]"
          },
          "metadata": {}
        }
      ]
    },
    {
      "cell_type": "code",
      "source": [
        "plt.figure(figsize=(8,3))\n",
        "sns.countplot(x=data['Product Category'])\n",
        "plt.title('Customer Preferred Order Category')\n",
        "plt.show()"
      ],
      "metadata": {
        "colab": {
          "base_uri": "https://localhost:8080/",
          "height": 333
        },
        "id": "jFQAi_k52UtD",
        "outputId": "362f9753-a8ea-4180-f23a-7ddec90cbee3"
      },
      "execution_count": null,
      "outputs": [
        {
          "output_type": "display_data",
          "data": {
            "text/plain": [
              "<Figure size 800x300 with 1 Axes>"
            ],
            "image/png": "[encoded data removed]"
          },
          "metadata": {}
        }
      ]
    },
    {
      "cell_type": "code",
      "source": [
        "sns.countplot(x=data['Quantity'], hue=data['Churn'])\n",
        "plt.title(\"Distribution of Customer Orders\")\n",
        "plt.show()"
      ],
      "metadata": {
        "colab": {
          "base_uri": "https://localhost:8080/",
          "height": 472
        },
        "id": "tsZ4VkKZhjNG",
        "outputId": "4135acb9-6653-40d0-c3d7-fefe7dc9ca4d"
      },
      "execution_count": null,
      "outputs": [
        {
          "output_type": "display_data",
          "data": {
            "text/plain": [
              "<Figure size 640x480 with 1 Axes>"
            ],
            "image/png": "[encoded data removed]"
          },
          "metadata": {}
        }
      ]
    },
    {
      "cell_type": "markdown",
      "source": [
        "# Perform correlation analysis"
      ],
      "metadata": {
        "id": "XYJOP-x8MLIh"
      }
    },
    {
      "cell_type": "code",
      "source": [
        "plt.figure(figsize=(15,8))\n",
        "sns.heatmap(data.corr(numeric_only=True), annot=True)\n",
        "plt.title(\"Correlation Matrix for the Customer Dataset\")\n",
        "plt.show()"
      ],
      "metadata": {
        "colab": {
          "base_uri": "https://localhost:8080/",
          "height": 699
        },
        "id": "9koNHt7kWoV8",
        "outputId": "2496076a-bd82-421d-f7c7-190315c9938f"
      },
      "execution_count": null,
      "outputs": [
        {
          "output_type": "display_data",
          "data": {
            "text/plain": [
              "<Figure size 1500x800 with 2 Axes>"
            ],
            "image/png": "[encoded data removed]"
          },
          "metadata": {}
        }
      ]
    },
    {
      "cell_type": "markdown",
      "source": [
        "When two variables have a positive correlation, it means that they typically rise or fall together. Conversely, negative correlations show that one variable tends to decrease as the other grows. Remember that correlation is not indicative of causality. To ascertain the underlying mechanisms underlying these associations, more research and testing may be required. Furthermore, not all possible confounding factors can be accounted for via correlation analysis, therefore caution should be exercised in interpreting the results."
      ],
      "metadata": {
        "id": "CEpXlY8cMO-2"
      }
    },
    {
      "cell_type": "markdown",
      "source": [
        "**Data Preprocessing**"
      ],
      "metadata": {
        "id": "fF9pDDFIMZG9"
      }
    },
    {
      "cell_type": "code",
      "source": [
        "# Create function to convert column with dtype object to integer\n",
        "def object_to_int(x):\n",
        "    if x.dtype == 'object':\n",
        "        x = LabelEncoder().fit_transform(x)\n",
        "    return x\n",
        "\n",
        "# Convert column dtype object to int\n",
        "data = data.apply(lambda x : object_to_int(x))"
      ],
      "metadata": {
        "id": "g8mX-pfbWwLR"
      },
      "execution_count": null,
      "outputs": []
    },
    {
      "cell_type": "code",
      "source": [
        "# balance dataset with oversampling\n",
        "from sklearn.utils import resample\n",
        "data_0 = data.loc[data['Churn'] == 0]\n",
        "data_1 = data.loc[data['Churn'] == 1]\n",
        "\n",
        "# Count total each churn feature\n",
        "n_0 = len(data_0)\n",
        "n_1 = len(data_1)\n",
        "\n",
        "# Applying oversampling method\n",
        "data_oversampling = resample(data_1, replace=True, n_samples=n_0, random_state=42)\n",
        "data_new = pd.concat([data_oversampling, data_0])\n",
        "data_new = data_new.sample(frac=1)\n",
        "data_new.reset_index(drop=True, inplace=True)"
      ],
      "metadata": {
        "id": "h2hmvCckW0rz"
      },
      "execution_count": null,
      "outputs": []
    },
    {
      "cell_type": "code",
      "source": [
        "# Check total of churn data after apply oversampling method\n",
        "data_new['Churn'].value_counts()"
      ],
      "metadata": {
        "colab": {
          "base_uri": "https://localhost:8080/"
        },
        "id": "HVqwK9AYW1bM",
        "outputId": "faa95ba0-6e05-4b01-b2c9-99973ec57c5c"
      },
      "execution_count": null,
      "outputs": [
        {
          "output_type": "execute_result",
          "data": {
            "text/plain": [
              "1    199870\n",
              "0    199870\n",
              "Name: Churn, dtype: int64"
            ]
          },
          "metadata": {},
          "execution_count": 45
        }
      ]
    },
    {
      "cell_type": "markdown",
      "source": [
        "Create a Suitable Machine Learning Model\n",
        "To create a suitable machine learning model for predicting customer churn, we'll follow these steps:"
      ],
      "metadata": {
        "id": "bpHbZpnUNzmt"
      }
    },
    {
      "cell_type": "code",
      "source": [
        "from sklearn.model_selection import train_test_split\n",
        "from sklearn.ensemble import RandomForestClassifier\n",
        "from sklearn.metrics import accuracy_score, classification_report\n",
        "\n",
        "# Define features (X) and target variable (y)\n",
        "X = data_new.drop('Churn', axis=1)  # Independent variables\n",
        "y = data_new['Churn']  # Dependent variable\n"
      ],
      "metadata": {
        "id": "3yEz3BZwW67h"
      },
      "execution_count": null,
      "outputs": []
    },
    {
      "cell_type": "markdown",
      "source": [
        "Feature Selection: Target Variable (\"y\"): Churn Independent Variables (\"X\"): Purchase Date, Product Category, Product Price, Quantity, Total Purchase Amount, Payment Method, Customer Age, Returns, Customer Name, Age, Gender"
      ],
      "metadata": {
        "id": "EjVYwKsCNvVB"
      }
    },
    {
      "cell_type": "markdown",
      "source": [
        "Model Selection and Training:\n",
        "Choose an appropriate machine learning model for binary classification. Common models include Logistic Regression, Decision Trees, Random Forest, Support Vector Machines (SVM), or Gradient Boosting."
      ],
      "metadata": {
        "id": "2Af5KRgVNqUg"
      }
    },
    {
      "cell_type": "code",
      "source": [
        "from sklearn.model_selection import train_test_split\n",
        "from sklearn.ensemble import RandomForestClassifier\n",
        "from sklearn.metrics import accuracy_score, classification_report\n",
        "\n",
        "# Define X and y\n",
        "X = data_new.drop('Churn', axis=1)\n",
        "y = data_new['Churn']\n",
        "\n",
        "# Split the data into training and testing sets\n",
        "X_train, X_test, y_train, y_test = train_test_split(X, y, test_size=0.2, random_state=42)\n",
        "\n",
        "# Initialize the model (Random Forest Classifier in this example)\n",
        "model = RandomForestClassifier(random_state=42)\n",
        "\n",
        "# Train the model\n",
        "model.fit(X_train, y_train)\n",
        "\n",
        "# Make predictions\n",
        "y_pred = model.predict(X_test)\n",
        "\n",
        "# Evaluate the model\n",
        "accuracy = accuracy_score(y_test, y_pred)\n",
        "report = classification_report(y_test, y_pred)\n",
        "\n",
        "print(f\"Accuracy: {accuracy}\")\n",
        "print(\"Classification Report:\\n\", report)\n"
      ],
      "metadata": {
        "colab": {
          "base_uri": "https://localhost:8080/"
        },
        "id": "OvtyN1FNGCUx",
        "outputId": "ba573f13-33cb-4d3f-8d7a-09dd60e47e6d"
      },
      "execution_count": null,
      "outputs": [
        {
          "output_type": "stream",
          "name": "stdout",
          "text": [
            "Accuracy: 0.9740331215289938\n",
            "Classification Report:\n",
            "               precision    recall  f1-score   support\n",
            "\n",
            "           0       0.96      0.99      0.97     39984\n",
            "           1       0.99      0.96      0.97     39964\n",
            "\n",
            "    accuracy                           0.97     79948\n",
            "   macro avg       0.97      0.97      0.97     79948\n",
            "weighted avg       0.97      0.97      0.97     79948\n",
            "\n"
          ]
        }
      ]
    },
    {
      "cell_type": "markdown",
      "source": [
        "**Results and Conclusions:**\n",
        "\n",
        "The correlation analysis directs feature selection and aids in determining links between variables. The chosen features are used to train the Random Forest Classifier, a machine learning model. The accuracy & classification report sheds light on the functionality of the model.\n",
        "\n"
      ],
      "metadata": {
        "id": "YPsM0yEPKFxa"
      }
    },
    {
      "cell_type": "markdown",
      "source": [
        "**Summary:**\n",
        "\n",
        "The dataset, which shows past purchases and e-commerce user behavior, has been obtained via Kaggle.\n",
        "Data processing included addressing missing values and applying label encoding to convert category variables to numerical values.\n",
        "Patterns regarding product category choices, payment method preferences, gender distribution, and customer attrition were made visible through data visualization.\n",
        "The correlations between variables were made clearer with the use of correlation analysis.\n",
        "To forecast customer attrition, a Random Forest Classifier was selected and trained.\n",
        "The model's accuracy and classification report should serve as the foundation for the results and conclusions.\n",
        "Through the use of a predictive model for customer churn, this technique seeks to enable firms to better target their customer retention and happiness efforts. Based on new information and organizational objectives, the model may need to be further optimized and refined.\n"
      ],
      "metadata": {
        "id": "1024fTnZ2OcS"
      }
    }
  ]
}